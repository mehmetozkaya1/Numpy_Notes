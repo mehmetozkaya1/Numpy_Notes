{
  "nbformat": 4,
  "nbformat_minor": 0,
  "metadata": {
    "colab": {
      "provenance": []
    },
    "kernelspec": {
      "name": "python3",
      "display_name": "Python 3"
    },
    "language_info": {
      "name": "python"
    }
  },
  "cells": [
    {
      "cell_type": "markdown",
      "source": [
        "# Importing Numpy:"
      ],
      "metadata": {
        "id": "rU9a9IVgKg6t"
      }
    },
    {
      "cell_type": "code",
      "source": [
        "import numpy as np"
      ],
      "metadata": {
        "id": "qpfO55KkKhIc"
      },
      "execution_count": 2,
      "outputs": []
    },
    {
      "cell_type": "markdown",
      "source": [
        "# NUMPY NOTES"
      ],
      "metadata": {
        "id": "s147z9jxJ6iW"
      }
    },
    {
      "cell_type": "markdown",
      "source": [
        "## Creating a numpy array:"
      ],
      "metadata": {
        "id": "H6woyezrKGQ1"
      }
    },
    {
      "cell_type": "code",
      "source": [
        "array = [1,2,3,4,5]\n",
        "np_array = np.array(array)\n",
        "np_array"
      ],
      "metadata": {
        "colab": {
          "base_uri": "https://localhost:8080/"
        },
        "id": "SyS6P5y5KZZ9",
        "outputId": "7e931bd5-423b-4f52-d347-da3938a2629c"
      },
      "execution_count": 12,
      "outputs": [
        {
          "output_type": "execute_result",
          "data": {
            "text/plain": [
              "array([1, 2, 3, 4, 5])"
            ]
          },
          "metadata": {},
          "execution_count": 12
        }
      ]
    },
    {
      "cell_type": "code",
      "source": [
        "np.array([1,2,3,4,5,6,7])"
      ],
      "metadata": {
        "colab": {
          "base_uri": "https://localhost:8080/"
        },
        "id": "W7omQngoLflV",
        "outputId": "c22ab92f-bcc7-40a2-dbc3-282e49d95825"
      },
      "execution_count": 13,
      "outputs": [
        {
          "output_type": "execute_result",
          "data": {
            "text/plain": [
              "array([1, 2, 3, 4, 5, 6, 7])"
            ]
          },
          "metadata": {},
          "execution_count": 13
        }
      ]
    },
    {
      "cell_type": "code",
      "source": [
        "matrixes = [[10,20,30],[40,50,60],[70,80,90]]\n",
        "matrixes = np.array(matrixes)\n",
        "matrixes"
      ],
      "metadata": {
        "colab": {
          "base_uri": "https://localhost:8080/"
        },
        "id": "P5d7AHVeLkv8",
        "outputId": "aa64817f-8b83-4e84-cc14-2b6cb78020cc"
      },
      "execution_count": 14,
      "outputs": [
        {
          "output_type": "execute_result",
          "data": {
            "text/plain": [
              "array([[10, 20, 30],\n",
              "       [40, 50, 60],\n",
              "       [70, 80, 90]])"
            ]
          },
          "metadata": {},
          "execution_count": 14
        }
      ]
    },
    {
      "cell_type": "markdown",
      "source": [
        "### Arange method:"
      ],
      "metadata": {
        "id": "VIYZscz8Lvtj"
      }
    },
    {
      "cell_type": "code",
      "source": [
        "nplist1 = np.arange(30)\n",
        "nplist1"
      ],
      "metadata": {
        "colab": {
          "base_uri": "https://localhost:8080/"
        },
        "id": "16gWKvaHRd7e",
        "outputId": "546736f3-e5c4-41b5-a847-563652d997b0"
      },
      "execution_count": 31,
      "outputs": [
        {
          "output_type": "execute_result",
          "data": {
            "text/plain": [
              "array([ 0,  1,  2,  3,  4,  5,  6,  7,  8,  9, 10, 11, 12, 13, 14, 15, 16,\n",
              "       17, 18, 19, 20, 21, 22, 23, 24, 25, 26, 27, 28, 29])"
            ]
          },
          "metadata": {},
          "execution_count": 31
        }
      ]
    },
    {
      "cell_type": "markdown",
      "source": [
        "Creates a numpy array from 0 to 29."
      ],
      "metadata": {
        "id": "VBcUrnxqRgrG"
      }
    },
    {
      "cell_type": "code",
      "source": [
        "np_array2 = np.arange(0,10)\n",
        "np_array2"
      ],
      "metadata": {
        "colab": {
          "base_uri": "https://localhost:8080/"
        },
        "id": "HETnlvdeLzJc",
        "outputId": "ad961fe2-f57a-4e3a-d4a6-bf2ecf480b73"
      },
      "execution_count": 15,
      "outputs": [
        {
          "output_type": "execute_result",
          "data": {
            "text/plain": [
              "array([0, 1, 2, 3, 4, 5, 6, 7, 8, 9])"
            ]
          },
          "metadata": {},
          "execution_count": 15
        }
      ]
    },
    {
      "cell_type": "markdown",
      "source": [
        "Creates a numpy array from 0 to 9."
      ],
      "metadata": {
        "id": "yNHjCZKDL5LM"
      }
    },
    {
      "cell_type": "code",
      "source": [
        "np_array3 = np.arange(0,10,2)\n",
        "np_array3"
      ],
      "metadata": {
        "colab": {
          "base_uri": "https://localhost:8080/"
        },
        "id": "sqad7LcIL9-V",
        "outputId": "5f3555df-24de-4dc0-fd65-18a2552d56fd"
      },
      "execution_count": 16,
      "outputs": [
        {
          "output_type": "execute_result",
          "data": {
            "text/plain": [
              "array([0, 2, 4, 6, 8])"
            ]
          },
          "metadata": {},
          "execution_count": 16
        }
      ]
    },
    {
      "cell_type": "markdown",
      "source": [
        "Creates a numpy array from 0 to 9 but only takes one from every two numbers."
      ],
      "metadata": {
        "id": "L-dg1tGPMBq9"
      }
    },
    {
      "cell_type": "markdown",
      "source": [
        "### Zeros method:"
      ],
      "metadata": {
        "id": "u33f3jPvMhOE"
      }
    },
    {
      "cell_type": "code",
      "source": [
        "nparray4 = np.zeros(5)\n",
        "nparray4"
      ],
      "metadata": {
        "colab": {
          "base_uri": "https://localhost:8080/"
        },
        "id": "jTp_OgSiMkX0",
        "outputId": "a25eab3a-6874-4941-e05c-bca197d8e749"
      },
      "execution_count": 17,
      "outputs": [
        {
          "output_type": "execute_result",
          "data": {
            "text/plain": [
              "array([0., 0., 0., 0., 0.])"
            ]
          },
          "metadata": {},
          "execution_count": 17
        }
      ]
    },
    {
      "cell_type": "markdown",
      "source": [
        "Creates a numpy array with 5 zeros."
      ],
      "metadata": {
        "id": "6zG-MnvOMu6d"
      }
    },
    {
      "cell_type": "code",
      "source": [
        "nparray5 = np.zeros((2,2))\n",
        "nparray5"
      ],
      "metadata": {
        "colab": {
          "base_uri": "https://localhost:8080/"
        },
        "id": "9BHhPVU0MyzN",
        "outputId": "70983ce7-5de5-4c98-a5bf-ae7f9678c5e3"
      },
      "execution_count": 18,
      "outputs": [
        {
          "output_type": "execute_result",
          "data": {
            "text/plain": [
              "array([[0., 0.],\n",
              "       [0., 0.]])"
            ]
          },
          "metadata": {},
          "execution_count": 18
        }
      ]
    },
    {
      "cell_type": "markdown",
      "source": [
        "Creates a numpy array with the form of (2,2) zeros."
      ],
      "metadata": {
        "id": "mZnICKbsM2_d"
      }
    },
    {
      "cell_type": "markdown",
      "source": [
        "### Ones method:"
      ],
      "metadata": {
        "id": "swEsCZBfM8td"
      }
    },
    {
      "cell_type": "code",
      "source": [
        "nparray6 = np.ones(5)\n",
        "nparray6"
      ],
      "metadata": {
        "colab": {
          "base_uri": "https://localhost:8080/"
        },
        "id": "pzmG7P2HM-Xd",
        "outputId": "e85ffd91-fe3c-4341-c4a6-62d10ca41a71"
      },
      "execution_count": 19,
      "outputs": [
        {
          "output_type": "execute_result",
          "data": {
            "text/plain": [
              "array([1., 1., 1., 1., 1.])"
            ]
          },
          "metadata": {},
          "execution_count": 19
        }
      ]
    },
    {
      "cell_type": "markdown",
      "source": [
        "Creates a numpy array with 5 ones."
      ],
      "metadata": {
        "id": "SbsjXd3KNCWV"
      }
    },
    {
      "cell_type": "code",
      "source": [
        "nparray7 = np.ones((2,2))\n",
        "nparray7"
      ],
      "metadata": {
        "colab": {
          "base_uri": "https://localhost:8080/"
        },
        "id": "j6GCxAwNNFFN",
        "outputId": "1b824a9a-eb7f-47cd-b9d0-86a034878790"
      },
      "execution_count": 20,
      "outputs": [
        {
          "output_type": "execute_result",
          "data": {
            "text/plain": [
              "array([[1., 1.],\n",
              "       [1., 1.]])"
            ]
          },
          "metadata": {},
          "execution_count": 20
        }
      ]
    },
    {
      "cell_type": "markdown",
      "source": [
        "Creates a numpy array with the form of (2,2) ones."
      ],
      "metadata": {
        "id": "2sJy0HHDNJB-"
      }
    },
    {
      "cell_type": "markdown",
      "source": [
        "### Linspace method:"
      ],
      "metadata": {
        "id": "Ak_MhYrVNNcV"
      }
    },
    {
      "cell_type": "code",
      "source": [
        "nplist8 = np.linspace(0,10,20)\n",
        "nplist8"
      ],
      "metadata": {
        "colab": {
          "base_uri": "https://localhost:8080/"
        },
        "id": "Ob2oBemlNPsl",
        "outputId": "dda6326e-8d03-4465-f038-77cc8f062789"
      },
      "execution_count": 21,
      "outputs": [
        {
          "output_type": "execute_result",
          "data": {
            "text/plain": [
              "array([ 0.        ,  0.52631579,  1.05263158,  1.57894737,  2.10526316,\n",
              "        2.63157895,  3.15789474,  3.68421053,  4.21052632,  4.73684211,\n",
              "        5.26315789,  5.78947368,  6.31578947,  6.84210526,  7.36842105,\n",
              "        7.89473684,  8.42105263,  8.94736842,  9.47368421, 10.        ])"
            ]
          },
          "metadata": {},
          "execution_count": 21
        }
      ]
    },
    {
      "cell_type": "markdown",
      "source": [
        "It divides the 0-10 range into 20 equal parts."
      ],
      "metadata": {
        "id": "ftxzlRaeNiEN"
      }
    },
    {
      "cell_type": "markdown",
      "source": [
        "### Eye method:"
      ],
      "metadata": {
        "id": "ezJF9bTpOF0l"
      }
    },
    {
      "cell_type": "code",
      "source": [
        "nplist9 = np.eye(3)\n",
        "nplist9"
      ],
      "metadata": {
        "colab": {
          "base_uri": "https://localhost:8080/"
        },
        "id": "_rmQAzQEOHm1",
        "outputId": "2e7f7db1-8f2e-4d82-ed78-e0c1657da79c"
      },
      "execution_count": 22,
      "outputs": [
        {
          "output_type": "execute_result",
          "data": {
            "text/plain": [
              "array([[1., 0., 0.],\n",
              "       [0., 1., 0.],\n",
              "       [0., 0., 1.]])"
            ]
          },
          "metadata": {},
          "execution_count": 22
        }
      ]
    },
    {
      "cell_type": "markdown",
      "source": [
        "It creates a 3 by 3 np array. Diagnols are ones and the rest is zero."
      ],
      "metadata": {
        "id": "3rKkDqpaOiNG"
      }
    },
    {
      "cell_type": "markdown",
      "source": [
        "## Random Methods:"
      ],
      "metadata": {
        "id": "5CM1IBwAO74t"
      }
    },
    {
      "cell_type": "markdown",
      "source": [
        "### Rand method:"
      ],
      "metadata": {
        "id": "5WaObwSeO_l9"
      }
    },
    {
      "cell_type": "code",
      "source": [
        "nplist10 = np.random.rand(4)\n",
        "nplist10"
      ],
      "metadata": {
        "colab": {
          "base_uri": "https://localhost:8080/"
        },
        "id": "_5KjBQSCPB_t",
        "outputId": "71c8ac6b-9370-4eef-f21d-19c41512d3a0"
      },
      "execution_count": 23,
      "outputs": [
        {
          "output_type": "execute_result",
          "data": {
            "text/plain": [
              "array([0.18175097, 0.54173022, 0.73969075, 0.87772076])"
            ]
          },
          "metadata": {},
          "execution_count": 23
        }
      ]
    },
    {
      "cell_type": "markdown",
      "source": [
        "Generates 4 positive random numbers. (between 0-1)"
      ],
      "metadata": {
        "id": "4FTIxhJkPTV-"
      }
    },
    {
      "cell_type": "code",
      "source": [
        "nplist12 = np.random.rand(2,2)\n",
        "nplist12"
      ],
      "metadata": {
        "colab": {
          "base_uri": "https://localhost:8080/"
        },
        "id": "Ir0z28M7Pwj9",
        "outputId": "568fbed3-b619-4089-99c8-19ef1777bf90"
      },
      "execution_count": 26,
      "outputs": [
        {
          "output_type": "execute_result",
          "data": {
            "text/plain": [
              "array([[0.18174477, 0.80632937],\n",
              "       [0.76524327, 0.85877641]])"
            ]
          },
          "metadata": {},
          "execution_count": 26
        }
      ]
    },
    {
      "cell_type": "markdown",
      "source": [
        "Generates 4 positive random numbers and creates a 2 by 2 array. (between 0-1)"
      ],
      "metadata": {
        "id": "Cr9Htih5QBpe"
      }
    },
    {
      "cell_type": "markdown",
      "source": [
        "### Randn method:"
      ],
      "metadata": {
        "id": "-wL_6H3zPi09"
      }
    },
    {
      "cell_type": "code",
      "source": [
        "nplist11 = np.random.randn(4)\n",
        "nplist11"
      ],
      "metadata": {
        "colab": {
          "base_uri": "https://localhost:8080/"
        },
        "id": "f1u6DjoqPmz1",
        "outputId": "81198b05-b39c-45f8-daf5-c5ce4a3439fe"
      },
      "execution_count": 24,
      "outputs": [
        {
          "output_type": "execute_result",
          "data": {
            "text/plain": [
              "array([-1.33956333, -0.4311403 , -0.79801374, -0.83727745])"
            ]
          },
          "metadata": {},
          "execution_count": 24
        }
      ]
    },
    {
      "cell_type": "markdown",
      "source": [
        "Generates 4 positive or negative random numbers. (between 0-1)"
      ],
      "metadata": {
        "id": "ASc7iLlXPrCm"
      }
    },
    {
      "cell_type": "code",
      "source": [
        "nplist13 = np.random.randn(2,2)\n",
        "nplist13"
      ],
      "metadata": {
        "colab": {
          "base_uri": "https://localhost:8080/"
        },
        "id": "QbeIoyhlQPK_",
        "outputId": "47c82d0a-156b-4b2d-cf30-1b94679f0211"
      },
      "execution_count": 27,
      "outputs": [
        {
          "output_type": "execute_result",
          "data": {
            "text/plain": [
              "array([[ 0.85901031,  0.50492608],\n",
              "       [-1.2844253 ,  0.77436278]])"
            ]
          },
          "metadata": {},
          "execution_count": 27
        }
      ]
    },
    {
      "cell_type": "markdown",
      "source": [
        "Generates 4 positive or negative random numbers and creates a 2 by 2 array. (between 0-1)"
      ],
      "metadata": {
        "id": "DUbtNInKQmMO"
      }
    },
    {
      "cell_type": "markdown",
      "source": [
        "### Randint method:"
      ],
      "metadata": {
        "id": "kYuWrXgFQpnm"
      }
    },
    {
      "cell_type": "code",
      "source": [
        "nplist14 = np.random.randint(8)\n",
        "nplist14"
      ],
      "metadata": {
        "colab": {
          "base_uri": "https://localhost:8080/"
        },
        "id": "mv3bU4FvQrZO",
        "outputId": "669e595f-45c6-414d-942e-82dcc6d6eff8"
      },
      "execution_count": 28,
      "outputs": [
        {
          "output_type": "execute_result",
          "data": {
            "text/plain": [
              "5"
            ]
          },
          "metadata": {},
          "execution_count": 28
        }
      ]
    },
    {
      "cell_type": "markdown",
      "source": [
        "Generates random integer numbers from 0-8 (not including 8)."
      ],
      "metadata": {
        "id": "IrbJsxG2RAzH"
      }
    },
    {
      "cell_type": "code",
      "source": [
        "nplist15 = np.random.randint(0,17)\n",
        "nplist15"
      ],
      "metadata": {
        "colab": {
          "base_uri": "https://localhost:8080/"
        },
        "id": "wgSyQf2gRCf_",
        "outputId": "5fe520ac-ea59-4bf7-e61b-23fcd172a576"
      },
      "execution_count": 29,
      "outputs": [
        {
          "output_type": "execute_result",
          "data": {
            "text/plain": [
              "14"
            ]
          },
          "metadata": {},
          "execution_count": 29
        }
      ]
    },
    {
      "cell_type": "markdown",
      "source": [
        "Generates random integer numbers from 0-17 (not including 17)."
      ],
      "metadata": {
        "id": "_T8r4IntRNxW"
      }
    },
    {
      "cell_type": "code",
      "source": [
        "nplist16 = np.random.randint(0,10,5)\n",
        "nplist16"
      ],
      "metadata": {
        "colab": {
          "base_uri": "https://localhost:8080/"
        },
        "id": "y55SBER_RQJu",
        "outputId": "55f1a327-0801-451f-9cdb-3896e5a98cda"
      },
      "execution_count": 30,
      "outputs": [
        {
          "output_type": "execute_result",
          "data": {
            "text/plain": [
              "array([6, 4, 2, 1, 8])"
            ]
          },
          "metadata": {},
          "execution_count": 30
        }
      ]
    },
    {
      "cell_type": "markdown",
      "source": [
        "Generates 5 random integer numbers from 0-10 (not including 10)."
      ],
      "metadata": {
        "id": "P_-u_wsKRXcO"
      }
    },
    {
      "cell_type": "markdown",
      "source": [
        "## Other Methods:"
      ],
      "metadata": {
        "id": "8M1G1-NaRmKh"
      }
    },
    {
      "cell_type": "markdown",
      "source": [
        "### Reshape method:"
      ],
      "metadata": {
        "id": "eY1tsQDjRoTW"
      }
    },
    {
      "cell_type": "code",
      "source": [
        "nplist17 = nplist1.reshape(5,6)\n",
        "nplist17"
      ],
      "metadata": {
        "colab": {
          "base_uri": "https://localhost:8080/"
        },
        "id": "QDLoDgU8RqYX",
        "outputId": "876620d5-565d-4054-bf95-89313c6912ee"
      },
      "execution_count": 32,
      "outputs": [
        {
          "output_type": "execute_result",
          "data": {
            "text/plain": [
              "array([[ 0,  1,  2,  3,  4,  5],\n",
              "       [ 6,  7,  8,  9, 10, 11],\n",
              "       [12, 13, 14, 15, 16, 17],\n",
              "       [18, 19, 20, 21, 22, 23],\n",
              "       [24, 25, 26, 27, 28, 29]])"
            ]
          },
          "metadata": {},
          "execution_count": 32
        }
      ]
    },
    {
      "cell_type": "markdown",
      "source": [
        "Reshape changes the shape of the array. First parameter is row, second one is column."
      ],
      "metadata": {
        "id": "ul_p2_IDR0F2"
      }
    },
    {
      "cell_type": "markdown",
      "source": [
        "### Comparing Methods:"
      ],
      "metadata": {
        "id": "9iIJl26kSA4_"
      }
    },
    {
      "cell_type": "markdown",
      "source": [
        "### Min, Max methods:"
      ],
      "metadata": {
        "id": "b8swEXEoSI1u"
      }
    },
    {
      "cell_type": "code",
      "source": [
        "max = nplist17.max()\n",
        "min = nplist17.min()\n",
        "max, min"
      ],
      "metadata": {
        "colab": {
          "base_uri": "https://localhost:8080/"
        },
        "id": "Bq_zaSQSSLmW",
        "outputId": "2336a65b-b097-4e49-c9bf-534fd0203035"
      },
      "execution_count": 33,
      "outputs": [
        {
          "output_type": "execute_result",
          "data": {
            "text/plain": [
              "(29, 0)"
            ]
          },
          "metadata": {},
          "execution_count": 33
        }
      ]
    },
    {
      "cell_type": "markdown",
      "source": [
        "Max = Max number in the array.\\\n",
        "Min = Min number in the array."
      ],
      "metadata": {
        "id": "azsI24JOSY6w"
      }
    },
    {
      "cell_type": "markdown",
      "source": [
        "### Argmax, Argmin methods:"
      ],
      "metadata": {
        "id": "JGQgJdmwSepf"
      }
    },
    {
      "cell_type": "code",
      "source": [
        "argmax = nplist17.argmax()\n",
        "argmin = nplist17.argmin()\n",
        "argmax, argmin"
      ],
      "metadata": {
        "colab": {
          "base_uri": "https://localhost:8080/"
        },
        "id": "sFlMvq1AShp_",
        "outputId": "0b0c5405-9ce6-4785-b7da-130ecc319842"
      },
      "execution_count": 34,
      "outputs": [
        {
          "output_type": "execute_result",
          "data": {
            "text/plain": [
              "(29, 0)"
            ]
          },
          "metadata": {},
          "execution_count": 34
        }
      ]
    },
    {
      "cell_type": "markdown",
      "source": [
        "Argmax = It brings the index of the max number.\\\n",
        "Argmin = It brings the index of the min number."
      ],
      "metadata": {
        "id": "3uVNwjqFSqAX"
      }
    },
    {
      "cell_type": "markdown",
      "source": [
        "## Numpy Operations:"
      ],
      "metadata": {
        "id": "RjOJCh3ZSyq_"
      }
    },
    {
      "cell_type": "code",
      "source": [
        "result = nplist1[3]\n",
        "result"
      ],
      "metadata": {
        "colab": {
          "base_uri": "https://localhost:8080/"
        },
        "id": "5WGt6TuTS1a3",
        "outputId": "e3041716-2bcd-4674-fff9-bc21837140d1"
      },
      "execution_count": 35,
      "outputs": [
        {
          "output_type": "execute_result",
          "data": {
            "text/plain": [
              "3"
            ]
          },
          "metadata": {},
          "execution_count": 35
        }
      ]
    },
    {
      "cell_type": "markdown",
      "source": [
        "It brings the number with the index of 3."
      ],
      "metadata": {
        "id": "KT-VWEjcS8gv"
      }
    },
    {
      "cell_type": "code",
      "source": [
        "sliced_array = nplist1[3:8]\n",
        "sliced_array"
      ],
      "metadata": {
        "colab": {
          "base_uri": "https://localhost:8080/"
        },
        "id": "JAyT6fF4TCjP",
        "outputId": "d5f02955-b3da-4e1d-86b9-1e1ce3d6f8da"
      },
      "execution_count": 36,
      "outputs": [
        {
          "output_type": "execute_result",
          "data": {
            "text/plain": [
              "array([3, 4, 5, 6, 7])"
            ]
          },
          "metadata": {},
          "execution_count": 36
        }
      ]
    },
    {
      "cell_type": "markdown",
      "source": [
        "It brings the number whose indexes are from 3 to 8.(except 8)"
      ],
      "metadata": {
        "id": "befPv3VATNx_"
      }
    },
    {
      "cell_type": "code",
      "source": [
        "nplist16[3:8] = -5\n",
        "nplist16"
      ],
      "metadata": {
        "colab": {
          "base_uri": "https://localhost:8080/"
        },
        "id": "rSpmGg3zTY7v",
        "outputId": "b6cb0e58-f6f8-4221-d2c7-af0fdaf33b54"
      },
      "execution_count": 38,
      "outputs": [
        {
          "output_type": "execute_result",
          "data": {
            "text/plain": [
              "array([ 6,  4,  2, -5, -5])"
            ]
          },
          "metadata": {},
          "execution_count": 38
        }
      ]
    },
    {
      "cell_type": "markdown",
      "source": [
        "It assignes the value -5 to the elements of the array at indexes 3-8. (except 8)"
      ],
      "metadata": {
        "id": "8GF4SQMpTvhA"
      }
    },
    {
      "cell_type": "code",
      "source": [
        "sliced_array[:] = 10\n",
        "sliced_array"
      ],
      "metadata": {
        "colab": {
          "base_uri": "https://localhost:8080/"
        },
        "id": "cf_kHpK0T2y3",
        "outputId": "20ca43e5-7e94-4e39-87b4-99313e13b435"
      },
      "execution_count": 39,
      "outputs": [
        {
          "output_type": "execute_result",
          "data": {
            "text/plain": [
              "array([10, 10, 10, 10, 10])"
            ]
          },
          "metadata": {},
          "execution_count": 39
        }
      ]
    },
    {
      "cell_type": "markdown",
      "source": [
        "We assigned the value 10 to the elements of the array."
      ],
      "metadata": {
        "id": "yJY_T8TgT80H"
      }
    },
    {
      "cell_type": "code",
      "source": [
        "new_array = nplist1.copy()\n",
        "new_array"
      ],
      "metadata": {
        "colab": {
          "base_uri": "https://localhost:8080/"
        },
        "id": "IwJ4Xd-sUCEf",
        "outputId": "abb3fa12-e991-49bf-e49c-c61304781308"
      },
      "execution_count": 40,
      "outputs": [
        {
          "output_type": "execute_result",
          "data": {
            "text/plain": [
              "array([ 0,  1,  2, 10, 10, 10, 10, 10,  8,  9, 10, 11, 12, 13, 14, 15, 16,\n",
              "       17, -5, -5, -5, -5, -5, -5, -5, -5, -5, -5, -5, -5])"
            ]
          },
          "metadata": {},
          "execution_count": 40
        }
      ]
    },
    {
      "cell_type": "markdown",
      "source": [
        "We copied the numpy array."
      ],
      "metadata": {
        "id": "5BA-NiGXUJOH"
      }
    },
    {
      "cell_type": "markdown",
      "source": [
        "### Important! :"
      ],
      "metadata": {
        "id": "GCw8eq4gURhv"
      }
    },
    {
      "cell_type": "code",
      "source": [
        "newarray = np.arange(0,30)\n",
        "copiedArray = newarray.copy()\n",
        "copiedArraySliced = copiedArray[3:8]\n",
        "copiedArraySliced[:] = 10\n",
        "\n",
        "copiedArraySliced"
      ],
      "metadata": {
        "colab": {
          "base_uri": "https://localhost:8080/"
        },
        "id": "AHdkN1aYUVeX",
        "outputId": "0dbd6a15-e14c-48ce-e2c1-7f02b66fab4f"
      },
      "execution_count": 42,
      "outputs": [
        {
          "output_type": "execute_result",
          "data": {
            "text/plain": [
              "array([ 0,  1,  2,  3,  4,  5,  6,  7,  8,  9, 10, 11, 12, 13, 14, 15, 16,\n",
              "       17, 18, 19, 20, 21, 22, 23, 24, 25, 26, 27, 28, 29])"
            ]
          },
          "metadata": {},
          "execution_count": 42
        }
      ]
    },
    {
      "cell_type": "code",
      "source": [
        "copiedArray"
      ],
      "metadata": {
        "colab": {
          "base_uri": "https://localhost:8080/"
        },
        "id": "f2e07YMhUvNP",
        "outputId": "789457b4-50e4-4fe2-9455-81c45e0e1fe7"
      },
      "execution_count": 43,
      "outputs": [
        {
          "output_type": "execute_result",
          "data": {
            "text/plain": [
              "array([ 0,  1,  2, 10, 10, 10, 10, 10,  8,  9, 10, 11, 12, 13, 14, 15, 16,\n",
              "       17, 18, 19, 20, 21, 22, 23, 24, 25, 26, 27, 28, 29])"
            ]
          },
          "metadata": {},
          "execution_count": 43
        }
      ]
    },
    {
      "cell_type": "code",
      "source": [
        "newarray"
      ],
      "metadata": {
        "colab": {
          "base_uri": "https://localhost:8080/"
        },
        "id": "nEQhE0jtUxDv",
        "outputId": "4c8d589d-89dd-4f89-d848-0b58ccebc6cc"
      },
      "execution_count": 44,
      "outputs": [
        {
          "output_type": "execute_result",
          "data": {
            "text/plain": [
              "array([ 0,  1,  2,  3,  4,  5,  6,  7,  8,  9, 10, 11, 12, 13, 14, 15, 16,\n",
              "       17, 18, 19, 20, 21, 22, 23, 24, 25, 26, 27, 28, 29])"
            ]
          },
          "metadata": {},
          "execution_count": 44
        }
      ]
    },
    {
      "cell_type": "markdown",
      "source": [
        "### Matrix operations:"
      ],
      "metadata": {
        "id": "e2YY9zDDU0G3"
      }
    },
    {
      "cell_type": "code",
      "source": [
        "matrixes"
      ],
      "metadata": {
        "colab": {
          "base_uri": "https://localhost:8080/"
        },
        "id": "dX6vrXZ1U2xf",
        "outputId": "ff363df3-57d0-4c4c-e4df-d0b1fd75f1e4"
      },
      "execution_count": 45,
      "outputs": [
        {
          "output_type": "execute_result",
          "data": {
            "text/plain": [
              "array([[10, 20, 30],\n",
              "       [40, 50, 60],\n",
              "       [70, 80, 90]])"
            ]
          },
          "metadata": {},
          "execution_count": 45
        }
      ]
    },
    {
      "cell_type": "code",
      "source": [
        "matrixes[0]"
      ],
      "metadata": {
        "colab": {
          "base_uri": "https://localhost:8080/"
        },
        "id": "GcvKOHGEU6GA",
        "outputId": "8220ba23-417f-43e2-b51f-51a6609f1c0e"
      },
      "execution_count": 46,
      "outputs": [
        {
          "output_type": "execute_result",
          "data": {
            "text/plain": [
              "array([10, 20, 30])"
            ]
          },
          "metadata": {},
          "execution_count": 46
        }
      ]
    },
    {
      "cell_type": "code",
      "source": [
        "matrixes[0][2]"
      ],
      "metadata": {
        "colab": {
          "base_uri": "https://localhost:8080/"
        },
        "id": "oQ3Pghz9U81A",
        "outputId": "2770c8ac-b0f5-4127-d45e-7c6461bc96f0"
      },
      "execution_count": 47,
      "outputs": [
        {
          "output_type": "execute_result",
          "data": {
            "text/plain": [
              "30"
            ]
          },
          "metadata": {},
          "execution_count": 47
        }
      ]
    },
    {
      "cell_type": "code",
      "source": [
        "matrixes[1,2]"
      ],
      "metadata": {
        "colab": {
          "base_uri": "https://localhost:8080/"
        },
        "id": "DJFZ8UvIU_gw",
        "outputId": "6e25ec68-fb84-4383-e14e-424aeaabd16f"
      },
      "execution_count": 48,
      "outputs": [
        {
          "output_type": "execute_result",
          "data": {
            "text/plain": [
              "60"
            ]
          },
          "metadata": {},
          "execution_count": 48
        }
      ]
    },
    {
      "cell_type": "markdown",
      "source": [
        "matrixes[row, column]"
      ],
      "metadata": {
        "id": "FpFWWGiwVCIo"
      }
    },
    {
      "cell_type": "code",
      "source": [
        "result = matrixes[1:,2]\n",
        "result"
      ],
      "metadata": {
        "colab": {
          "base_uri": "https://localhost:8080/"
        },
        "id": "pkYw76_4VFdI",
        "outputId": "fadb6fb7-24e2-46b6-ec40-3bcebd60cdb1"
      },
      "execution_count": 50,
      "outputs": [
        {
          "output_type": "execute_result",
          "data": {
            "text/plain": [
              "array([60, 90])"
            ]
          },
          "metadata": {},
          "execution_count": 50
        }
      ]
    },
    {
      "cell_type": "code",
      "source": [
        "result = matrixes[2:,1:]\n",
        "result"
      ],
      "metadata": {
        "colab": {
          "base_uri": "https://localhost:8080/"
        },
        "id": "Iet14omhVMW4",
        "outputId": "8dd117b1-8034-46b7-8b75-b5c76670e004"
      },
      "execution_count": 51,
      "outputs": [
        {
          "output_type": "execute_result",
          "data": {
            "text/plain": [
              "array([[80, 90]])"
            ]
          },
          "metadata": {},
          "execution_count": 51
        }
      ]
    },
    {
      "cell_type": "code",
      "source": [
        "matrixes[[0,1,2]]"
      ],
      "metadata": {
        "colab": {
          "base_uri": "https://localhost:8080/"
        },
        "id": "j7BF89U4VTao",
        "outputId": "be396878-b00e-45dc-cb9e-c364c9554767"
      },
      "execution_count": 52,
      "outputs": [
        {
          "output_type": "execute_result",
          "data": {
            "text/plain": [
              "array([[10, 20, 30],\n",
              "       [40, 50, 60],\n",
              "       [70, 80, 90]])"
            ]
          },
          "metadata": {},
          "execution_count": 52
        }
      ]
    },
    {
      "cell_type": "code",
      "source": [
        "matrixes[[0,1]]"
      ],
      "metadata": {
        "colab": {
          "base_uri": "https://localhost:8080/"
        },
        "id": "A314MpFuVYSQ",
        "outputId": "463cc4a9-471e-4c23-ba8d-6a04788e6bd0"
      },
      "execution_count": 53,
      "outputs": [
        {
          "output_type": "execute_result",
          "data": {
            "text/plain": [
              "array([[10, 20, 30],\n",
              "       [40, 50, 60]])"
            ]
          },
          "metadata": {},
          "execution_count": 53
        }
      ]
    },
    {
      "cell_type": "markdown",
      "source": [
        "### General Operations:"
      ],
      "metadata": {
        "id": "elaS46EPVc9w"
      }
    },
    {
      "cell_type": "code",
      "source": [
        "newestArray = np.random.randint(1,100,30)\n",
        "newestArray"
      ],
      "metadata": {
        "colab": {
          "base_uri": "https://localhost:8080/"
        },
        "id": "0FvfQ8e4Vf7z",
        "outputId": "418d8649-237b-445b-8941-4aa7c9c170cf"
      },
      "execution_count": 54,
      "outputs": [
        {
          "output_type": "execute_result",
          "data": {
            "text/plain": [
              "array([70, 80, 52, 59, 99, 46, 94, 54, 79, 52, 21, 82,  5, 26, 80, 67, 87,\n",
              "       80, 19, 92, 14, 93, 89, 81, 60, 40, 13, 57, 65, 85])"
            ]
          },
          "metadata": {},
          "execution_count": 54
        }
      ]
    },
    {
      "cell_type": "code",
      "source": [
        "isBig = newestArray > 50\n",
        "isBig"
      ],
      "metadata": {
        "colab": {
          "base_uri": "https://localhost:8080/"
        },
        "id": "b4qTlsMyVuJP",
        "outputId": "e3f333d7-1a9c-423a-f8e5-cf1c3ab43f0d"
      },
      "execution_count": 55,
      "outputs": [
        {
          "output_type": "execute_result",
          "data": {
            "text/plain": [
              "array([ True,  True,  True,  True,  True, False,  True,  True,  True,\n",
              "        True, False,  True, False, False,  True,  True,  True,  True,\n",
              "       False,  True, False,  True,  True,  True,  True, False, False,\n",
              "        True,  True,  True])"
            ]
          },
          "metadata": {},
          "execution_count": 55
        }
      ]
    },
    {
      "cell_type": "markdown",
      "source": [
        "Returns a boolean value for all the elements of the array."
      ],
      "metadata": {
        "id": "WZoncDDYV1gA"
      }
    },
    {
      "cell_type": "code",
      "source": [
        "newestArray[isBig]"
      ],
      "metadata": {
        "colab": {
          "base_uri": "https://localhost:8080/"
        },
        "id": "wcu_djkPV9IA",
        "outputId": "73fa3f4d-fd28-490f-a45a-e12cac88f66f"
      },
      "execution_count": 56,
      "outputs": [
        {
          "output_type": "execute_result",
          "data": {
            "text/plain": [
              "array([70, 80, 52, 59, 99, 94, 54, 79, 52, 82, 80, 67, 87, 80, 92, 93, 89,\n",
              "       81, 60, 57, 65, 85])"
            ]
          },
          "metadata": {},
          "execution_count": 56
        }
      ]
    },
    {
      "cell_type": "markdown",
      "source": [
        "We can reach the values by doing this. Or this way: "
      ],
      "metadata": {
        "id": "3PRLXzdNV_-C"
      }
    },
    {
      "cell_type": "code",
      "source": [
        "newestArray[newestArray > 50]"
      ],
      "metadata": {
        "colab": {
          "base_uri": "https://localhost:8080/"
        },
        "id": "TZaNheYpWIZI",
        "outputId": "f61245a6-8752-41d3-cbcc-9d826a102f9c"
      },
      "execution_count": 57,
      "outputs": [
        {
          "output_type": "execute_result",
          "data": {
            "text/plain": [
              "array([70, 80, 52, 59, 99, 94, 54, 79, 52, 82, 80, 67, 87, 80, 92, 93, 89,\n",
              "       81, 60, 57, 65, 85])"
            ]
          },
          "metadata": {},
          "execution_count": 57
        }
      ]
    },
    {
      "cell_type": "code",
      "source": [
        "sum_array = newestArray + newestArray\n",
        "sum_array"
      ],
      "metadata": {
        "colab": {
          "base_uri": "https://localhost:8080/"
        },
        "id": "UNMRprbxWO1B",
        "outputId": "074bfa49-2100-43cc-c327-65eb82252f24"
      },
      "execution_count": 58,
      "outputs": [
        {
          "output_type": "execute_result",
          "data": {
            "text/plain": [
              "array([140, 160, 104, 118, 198,  92, 188, 108, 158, 104,  42, 164,  10,\n",
              "        52, 160, 134, 174, 160,  38, 184,  28, 186, 178, 162, 120,  80,\n",
              "        26, 114, 130, 170])"
            ]
          },
          "metadata": {},
          "execution_count": 58
        }
      ]
    },
    {
      "cell_type": "markdown",
      "source": [
        "We can sum numpy arrays."
      ],
      "metadata": {
        "id": "5tXT6tvxWVog"
      }
    },
    {
      "cell_type": "code",
      "source": [
        "multiplyed_array = newestArray * newestArray\n",
        "multiplyed_array"
      ],
      "metadata": {
        "colab": {
          "base_uri": "https://localhost:8080/"
        },
        "id": "aPSkfMnaWYi4",
        "outputId": "9315c7ad-6672-43dd-8a7a-b680794a797a"
      },
      "execution_count": 60,
      "outputs": [
        {
          "output_type": "execute_result",
          "data": {
            "text/plain": [
              "array([4900, 6400, 2704, 3481, 9801, 2116, 8836, 2916, 6241, 2704,  441,\n",
              "       6724,   25,  676, 6400, 4489, 7569, 6400,  361, 8464,  196, 8649,\n",
              "       7921, 6561, 3600, 1600,  169, 3249, 4225, 7225])"
            ]
          },
          "metadata": {},
          "execution_count": 60
        }
      ]
    },
    {
      "cell_type": "markdown",
      "source": [
        "We can multiply numpy arrays."
      ],
      "metadata": {
        "id": "3tdW2UIPWkRi"
      }
    },
    {
      "cell_type": "code",
      "source": [
        "subtracked_array = newestArray - newestArray\n",
        "subtracked_array"
      ],
      "metadata": {
        "colab": {
          "base_uri": "https://localhost:8080/"
        },
        "id": "dS1Eh_oDWqMq",
        "outputId": "fcf58abb-a187-46ca-cc14-27e9e5a0c587"
      },
      "execution_count": 61,
      "outputs": [
        {
          "output_type": "execute_result",
          "data": {
            "text/plain": [
              "array([0, 0, 0, 0, 0, 0, 0, 0, 0, 0, 0, 0, 0, 0, 0, 0, 0, 0, 0, 0, 0, 0,\n",
              "       0, 0, 0, 0, 0, 0, 0, 0])"
            ]
          },
          "metadata": {},
          "execution_count": 61
        }
      ]
    },
    {
      "cell_type": "markdown",
      "source": [
        "We can subtrack numpy arrays."
      ],
      "metadata": {
        "id": "bNAVjhfXW5R6"
      }
    },
    {
      "cell_type": "code",
      "source": [
        "np.sqrt(newestArray)"
      ],
      "metadata": {
        "colab": {
          "base_uri": "https://localhost:8080/"
        },
        "id": "lbDqNjD9W-RJ",
        "outputId": "58267c13-7b3d-4dd9-8b0a-496ef8b43ec9"
      },
      "execution_count": 62,
      "outputs": [
        {
          "output_type": "execute_result",
          "data": {
            "text/plain": [
              "array([8.36660027, 8.94427191, 7.21110255, 7.68114575, 9.94987437,\n",
              "       6.78232998, 9.69535971, 7.34846923, 8.88819442, 7.21110255,\n",
              "       4.58257569, 9.05538514, 2.23606798, 5.09901951, 8.94427191,\n",
              "       8.18535277, 9.32737905, 8.94427191, 4.35889894, 9.59166305,\n",
              "       3.74165739, 9.64365076, 9.43398113, 9.        , 7.74596669,\n",
              "       6.32455532, 3.60555128, 7.54983444, 8.06225775, 9.21954446])"
            ]
          },
          "metadata": {},
          "execution_count": 62
        }
      ]
    },
    {
      "cell_type": "markdown",
      "source": [
        "It brings the sqrt values of every element."
      ],
      "metadata": {
        "id": "5XsBl68MXCmy"
      }
    }
  ]
}